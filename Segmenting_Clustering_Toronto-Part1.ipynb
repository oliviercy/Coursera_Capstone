{
 "cells": [
  {
   "cell_type": "markdown",
   "metadata": {},
   "source": [
    "# Segmenting and Clustering Neighborhoods in Toronto - Part I"
   ]
  },
  {
   "cell_type": "markdown",
   "metadata": {},
   "source": [
    "<hr style=\"height:5px;background-color:black\">"
   ]
  },
  {
   "cell_type": "markdown",
   "metadata": {},
   "source": [
    "### Let's scrap the Wikipedia table thanks to <a href=\"import requests\">this tutorial</a>"
   ]
  },
  {
   "cell_type": "code",
   "execution_count": 6,
   "metadata": {},
   "outputs": [
    {
     "name": "stdout",
     "output_type": "stream",
     "text": [
      "Collecting BeautifulSoup4\n",
      "\u001b[?25l  Downloading https://files.pythonhosted.org/packages/e8/b5/7bb03a696f2c9b7af792a8f51b82974e51c268f15e925fc834876a4efa0b/beautifulsoup4-4.9.0-py3-none-any.whl (109kB)\n",
      "\u001b[K     |████████████████████████████████| 112kB 21.5MB/s eta 0:00:01\n",
      "\u001b[?25hCollecting soupsieve>1.2 (from BeautifulSoup4)\n",
      "  Downloading https://files.pythonhosted.org/packages/05/cf/ea245e52f55823f19992447b008bcbb7f78efc5960d77f6c34b5b45b36dd/soupsieve-2.0-py2.py3-none-any.whl\n",
      "Installing collected packages: soupsieve, BeautifulSoup4\n",
      "Successfully installed BeautifulSoup4-4.9.0 soupsieve-2.0\n",
      "Note: you may need to restart the kernel to use updated packages.\n"
     ]
    }
   ],
   "source": [
    "# install BeautifulSoup\n",
    "import pandas as pd\n",
    "pip install BeautifulSoup4"
   ]
  },
  {
   "cell_type": "code",
   "execution_count": 9,
   "metadata": {},
   "outputs": [],
   "source": [
    "import requests\n",
    "\n",
    "# Assign the link of the website through which we are going to scrape the data and assign it\n",
    "# to a variable named website_url.\n",
    "\n",
    "# requests.get(url).text will ping a website and return you HTML of the website.\n",
    "website_url = requests.get('https://en.wikipedia.org/wiki/List_of_postal_codes_of_Canada:_M').text\n",
    "\n",
    "# Reading the source code of the web page and creating a BeautifulSoup (soup) object with the BeautifulSoup function.\n",
    "# Prettify() function in BeautifulSoup will enable us to view how the tags are nested in the document.\n",
    "\n",
    "from bs4 import BeautifulSoup\n",
    "soup = BeautifulSoup(website_url,'html.parser')\n",
    "#print(soup.prettify())"
   ]
  },
  {
   "cell_type": "markdown",
   "metadata": {},
   "source": [
    "<hr style=\"height:3px;background-color:crimson\">"
   ]
  },
  {
   "cell_type": "markdown",
   "metadata": {},
   "source": [
    "### Our first task is to find the `wikitable sortable` class in the HTML script"
   ]
  },
  {
   "cell_type": "code",
   "execution_count": 12,
   "metadata": {},
   "outputs": [],
   "source": [
    "my_table = soup.find('table',{'class':'wikitable sortable'})\n",
    "#my_table"
   ]
  },
  {
   "cell_type": "code",
   "execution_count": 14,
   "metadata": {},
   "outputs": [
    {
     "data": {
      "text/plain": [
       "[<th>Postal code\n",
       " </th>,\n",
       " <th>Borough\n",
       " </th>,\n",
       " <th>Neighborhood\n",
       " </th>]"
      ]
     },
     "execution_count": 14,
     "metadata": {},
     "output_type": "execute_result"
    }
   ],
   "source": [
    "# Let's extract the table headers for our dataframe columns\n",
    "th = my_table.findAll('th')\n",
    "th"
   ]
  },
  {
   "cell_type": "code",
   "execution_count": 70,
   "metadata": {},
   "outputs": [
    {
     "data": {
      "text/plain": [
       "['Postal code\\n', 'Borough\\n', 'Neighborhood\\n', 'Canadian postal codes\\n']"
      ]
     },
     "execution_count": 70,
     "metadata": {},
     "output_type": "execute_result"
    }
   ],
   "source": [
    "# Tip 1 (find all tip links at the bottom of this notebook)\n",
    "# Let's put these headers in a list\n",
    "headerz = [element.text for element in soup.find_all('th')]\n",
    "headerz"
   ]
  },
  {
   "cell_type": "code",
   "execution_count": 71,
   "metadata": {},
   "outputs": [
    {
     "data": {
      "text/plain": [
       "['Postal code', 'Borough', 'Neighborhood']"
      ]
     },
     "execution_count": 71,
     "metadata": {},
     "output_type": "execute_result"
    }
   ],
   "source": [
    "# Tip 2\n",
    "# Let's prepare the headers of our dataframe\n",
    "headerz = [s.replace('\\n', '') for s in headerz] # remove all the \\ns \n",
    "headerz.pop() # The last header is not required, let's pop it: it comes from the table at the bottom of the Wikipedia page)\n",
    "headerz"
   ]
  },
  {
   "cell_type": "markdown",
   "metadata": {},
   "source": [
    "<hr style=\"height:3px;background-color:crimson\">"
   ]
  },
  {
   "cell_type": "markdown",
   "metadata": {},
   "source": [
    "### Now we will prepare the content of our dataframe"
   ]
  },
  {
   "cell_type": "code",
   "execution_count": 58,
   "metadata": {},
   "outputs": [],
   "source": [
    "# Let's retrieve the rows of the table, delimited by the `<tr>` tag\n",
    "rowz = [element.text for element in soup.find_all('tr')]\n",
    "rowz = [s.replace('\\n\\n', ',') for s in rowz] # remove all the double-\\ns\n",
    "rowz.pop(0) # remove the first element of the list, containing the headers\n",
    "\n",
    "# Let's remove the last 4 items at the bottom of the list as they come from the table\n",
    "# 'Canadian postal codes' at the bottom of the Wikipedia page\n",
    "for i in range(4):\n",
    "    rowz.pop()"
   ]
  },
  {
   "cell_type": "code",
   "execution_count": 59,
   "metadata": {},
   "outputs": [
    {
     "data": {
      "text/plain": [
       "['M1A,Not assigned,\\n',\n",
       " 'M2A,Not assigned,\\n',\n",
       " 'M3A,North York,Parkwoods\\n',\n",
       " 'M4A,North York,Victoria Village\\n',\n",
       " 'M5A,Downtown Toronto,Regent Park / Harbourfront\\n',\n",
       " 'M6A,North York,Lawrence Manor / Lawrence Heights\\n',\n",
       " \"M7A,Downtown Toronto,Queen's Park / Ontario Provincial Government\\n\",\n",
       " 'M8A,Not assigned,\\n',\n",
       " 'M9A,Etobicoke,Islington Avenue\\n',\n",
       " 'M1B,Scarborough,Malvern / Rouge\\n',\n",
       " 'M2B,Not assigned,\\n',\n",
       " 'M3B,North York,Don Mills\\n',\n",
       " 'M4B,East York,Parkview Hill / Woodbine Gardens\\n',\n",
       " 'M5B,Downtown Toronto,Garden District / Ryerson\\n',\n",
       " 'M6B,North York,Glencairn\\n',\n",
       " 'M7B,Not assigned,\\n',\n",
       " 'M8B,Not assigned,\\n',\n",
       " 'M9B,Etobicoke,West Deane Park / Princess Gardens / Martin Grove / Islington / Cloverdale\\n',\n",
       " 'M1C,Scarborough,Rouge Hill / Port Union / Highland Creek\\n',\n",
       " 'M2C,Not assigned,\\n',\n",
       " 'M3C,North York,Don Mills\\n',\n",
       " 'M4C,East York,Woodbine Heights\\n',\n",
       " 'M5C,Downtown Toronto,St. James Town\\n',\n",
       " 'M6C,York,Humewood-Cedarvale\\n',\n",
       " 'M7C,Not assigned,\\n',\n",
       " 'M8C,Not assigned,\\n',\n",
       " 'M9C,Etobicoke,Eringate / Bloordale Gardens / Old Burnhamthorpe / Markland Wood\\n',\n",
       " 'M1E,Scarborough,Guildwood / Morningside / West Hill\\n',\n",
       " 'M2E,Not assigned,\\n',\n",
       " 'M3E,Not assigned,\\n',\n",
       " 'M4E,East Toronto,The Beaches\\n',\n",
       " 'M5E,Downtown Toronto,Berczy Park\\n',\n",
       " 'M6E,York,Caledonia-Fairbanks\\n',\n",
       " 'M7E,Not assigned,\\n',\n",
       " 'M8E,Not assigned,\\n',\n",
       " 'M9E,Not assigned,\\n',\n",
       " 'M1G,Scarborough,Woburn\\n',\n",
       " 'M2G,Not assigned,\\n',\n",
       " 'M3G,Not assigned,\\n',\n",
       " 'M4G,East York,Leaside\\n',\n",
       " 'M5G,Downtown Toronto,Central Bay Street\\n',\n",
       " 'M6G,Downtown Toronto,Christie\\n',\n",
       " 'M7G,Not assigned,\\n',\n",
       " 'M8G,Not assigned,\\n',\n",
       " 'M9G,Not assigned,\\n',\n",
       " 'M1H,Scarborough,Cedarbrae\\n',\n",
       " 'M2H,North York,Hillcrest Village\\n',\n",
       " 'M3H,North York,Bathurst Manor / Wilson Heights / Downsview North\\n',\n",
       " 'M4H,East York,Thorncliffe Park\\n',\n",
       " 'M5H,Downtown Toronto,Richmond / Adelaide / King\\n',\n",
       " 'M6H,West Toronto,Dufferin / Dovercourt Village\\n',\n",
       " 'M7H,Not assigned,\\n',\n",
       " 'M8H,Not assigned,\\n',\n",
       " 'M9H,Not assigned,\\n',\n",
       " 'M1J,Scarborough,Scarborough Village\\n',\n",
       " 'M2J,North York,Fairview / Henry Farm / Oriole\\n',\n",
       " 'M3J,North York,Northwood Park / York University\\n',\n",
       " 'M4J,East York,East Toronto\\n',\n",
       " 'M5J,Downtown Toronto,Harbourfront East / Union Station / Toronto Islands\\n',\n",
       " 'M6J,West Toronto,Little Portugal / Trinity\\n',\n",
       " 'M7J,Not assigned,\\n',\n",
       " 'M8J,Not assigned,\\n',\n",
       " 'M9J,Not assigned,\\n',\n",
       " 'M1K,Scarborough,Kennedy Park / Ionview / East Birchmount Park\\n',\n",
       " 'M2K,North York,Bayview Village\\n',\n",
       " 'M3K,North York,Downsview\\n',\n",
       " 'M4K,East Toronto,The Danforth West / Riverdale\\n',\n",
       " 'M5K,Downtown Toronto,Toronto Dominion Centre / Design Exchange\\n',\n",
       " 'M6K,West Toronto,Brockton / Parkdale Village / Exhibition Place\\n',\n",
       " 'M7K,Not assigned,\\n',\n",
       " 'M8K,Not assigned,\\n',\n",
       " 'M9K,Not assigned,\\n',\n",
       " 'M1L,Scarborough,Golden Mile / Clairlea / Oakridge\\n',\n",
       " 'M2L,North York,York Mills / Silver Hills\\n',\n",
       " 'M3L,North York,Downsview\\n',\n",
       " 'M4L,East Toronto,India Bazaar / The Beaches West\\n',\n",
       " 'M5L,Downtown Toronto,Commerce Court / Victoria Hotel\\n',\n",
       " 'M6L,North York,North Park / Maple Leaf Park / Upwood Park\\n',\n",
       " 'M7L,Not assigned,\\n',\n",
       " 'M8L,Not assigned,\\n',\n",
       " 'M9L,North York,Humber Summit\\n',\n",
       " 'M1M,Scarborough,Cliffside / Cliffcrest / Scarborough Village West\\n',\n",
       " 'M2M,North York,Willowdale / Newtonbrook\\n',\n",
       " 'M3M,North York,Downsview\\n',\n",
       " 'M4M,East Toronto,Studio District\\n',\n",
       " 'M5M,North York,Bedford Park / Lawrence Manor East\\n',\n",
       " 'M6M,York,Del Ray / Mount Dennis / Keelsdale and Silverthorn\\n',\n",
       " 'M7M,Not assigned,\\n',\n",
       " 'M8M,Not assigned,\\n',\n",
       " 'M9M,North York,Humberlea / Emery\\n',\n",
       " 'M1N,Scarborough,Birch Cliff / Cliffside West\\n',\n",
       " 'M2N,North York,Willowdale\\n',\n",
       " 'M3N,North York,Downsview\\n',\n",
       " 'M4N,Central Toronto,Lawrence Park\\n',\n",
       " 'M5N,Central Toronto,Roselawn\\n',\n",
       " 'M6N,York,Runnymede / The Junction North\\n',\n",
       " 'M7N,Not assigned,\\n',\n",
       " 'M8N,Not assigned,\\n',\n",
       " 'M9N,York,Weston\\n',\n",
       " 'M1P,Scarborough,Dorset Park / Wexford Heights / Scarborough Town Centre\\n',\n",
       " 'M2P,North York,York Mills West\\n',\n",
       " 'M3P,Not assigned,\\n',\n",
       " 'M4P,Central Toronto,Davisville North\\n',\n",
       " 'M5P,Central Toronto,Forest Hill North & West\\n',\n",
       " 'M6P,West Toronto,High Park / The Junction South\\n',\n",
       " 'M7P,Not assigned,\\n',\n",
       " 'M8P,Not assigned,\\n',\n",
       " 'M9P,Etobicoke,Westmount\\n',\n",
       " 'M1R,Scarborough,Wexford / Maryvale\\n',\n",
       " 'M2R,North York,Willowdale\\n',\n",
       " 'M3R,Not assigned,\\n',\n",
       " 'M4R,Central Toronto,North Toronto West\\n',\n",
       " 'M5R,Central Toronto,The Annex / North Midtown / Yorkville\\n',\n",
       " 'M6R,West Toronto,Parkdale / Roncesvalles\\n',\n",
       " 'M7R,Mississauga,Canada Post Gateway Processing Centre\\n',\n",
       " 'M8R,Not assigned,\\n',\n",
       " 'M9R,Etobicoke,Kingsview Village / St. Phillips / Martin Grove Gardens / Richview Gardens\\n',\n",
       " 'M1S,Scarborough,Agincourt\\n',\n",
       " 'M2S,Not assigned,\\n',\n",
       " 'M3S,Not assigned,\\n',\n",
       " 'M4S,Central Toronto,Davisville\\n',\n",
       " 'M5S,Downtown Toronto,University of Toronto / Harbord\\n',\n",
       " 'M6S,West Toronto,Runnymede / Swansea\\n',\n",
       " 'M7S,Not assigned,\\n',\n",
       " 'M8S,Not assigned,\\n',\n",
       " 'M9S,Not assigned,\\n',\n",
       " \"M1T,Scarborough,Clarks Corners / Tam O'Shanter / Sullivan\\n\",\n",
       " 'M2T,Not assigned,\\n',\n",
       " 'M3T,Not assigned,\\n',\n",
       " 'M4T,Central Toronto,Moore Park / Summerhill East\\n',\n",
       " 'M5T,Downtown Toronto,Kensington Market / Chinatown / Grange Park\\n',\n",
       " 'M6T,Not assigned,\\n',\n",
       " 'M7T,Not assigned,\\n',\n",
       " 'M8T,Not assigned,\\n',\n",
       " 'M9T,Not assigned,\\n',\n",
       " \"M1V,Scarborough,Milliken / Agincourt North / Steeles East / L'Amoreaux East\\n\",\n",
       " 'M2V,Not assigned,\\n',\n",
       " 'M3V,Not assigned,\\n',\n",
       " 'M4V,Central Toronto,Summerhill West / Rathnelly / South Hill / Forest Hill SE / Deer Park\\n',\n",
       " 'M5V,Downtown Toronto,CN Tower / King and Spadina / Railway Lands / Harbourfront West / Bathurst Quay / South Niagara / Island airport\\n',\n",
       " 'M6V,Not assigned,\\n',\n",
       " 'M7V,Not assigned,\\n',\n",
       " 'M8V,Etobicoke,New Toronto / Mimico South / Humber Bay Shores\\n',\n",
       " 'M9V,Etobicoke,South Steeles / Silverstone / Humbergate / Jamestown / Mount Olive / Beaumond Heights / Thistletown / Albion Gardens\\n',\n",
       " \"M1W,Scarborough,Steeles West / L'Amoreaux West\\n\",\n",
       " 'M2W,Not assigned,\\n',\n",
       " 'M3W,Not assigned,\\n',\n",
       " 'M4W,Downtown Toronto,Rosedale\\n',\n",
       " 'M5W,Downtown Toronto,Stn A PO Boxes\\n',\n",
       " 'M6W,Not assigned,\\n',\n",
       " 'M7W,Not assigned,\\n',\n",
       " 'M8W,Etobicoke,Alderwood / Long Branch\\n',\n",
       " 'M9W,Etobicoke,Northwest\\n',\n",
       " 'M1X,Scarborough,Upper Rouge\\n',\n",
       " 'M2X,Not assigned,\\n',\n",
       " 'M3X,Not assigned,\\n',\n",
       " 'M4X,Downtown Toronto,St. James Town / Cabbagetown\\n',\n",
       " 'M5X,Downtown Toronto,First Canadian Place / Underground city\\n',\n",
       " 'M6X,Not assigned,\\n',\n",
       " 'M7X,Not assigned,\\n',\n",
       " 'M8X,Etobicoke,The Kingsway / Montgomery Road  / Old Mill North\\n',\n",
       " 'M9X,Not assigned,\\n',\n",
       " 'M1Y,Not assigned,\\n',\n",
       " 'M2Y,Not assigned,\\n',\n",
       " 'M3Y,Not assigned,\\n',\n",
       " 'M4Y,Downtown Toronto,Church and Wellesley\\n',\n",
       " 'M5Y,Not assigned,\\n',\n",
       " 'M6Y,Not assigned,\\n',\n",
       " 'M7Y,East Toronto,Business reply mail Processing Centre\\n',\n",
       " \"M8Y,Etobicoke,Old Mill South / King's Mill Park / Sunnylea / Humber Bay / Mimico NE / The Queensway East / Royal York South East / Kingsway Park South East\\n\",\n",
       " 'M9Y,Not assigned,\\n',\n",
       " 'M1Z,Not assigned,\\n',\n",
       " 'M2Z,Not assigned,\\n',\n",
       " 'M3Z,Not assigned,\\n',\n",
       " 'M4Z,Not assigned,\\n',\n",
       " 'M5Z,Not assigned,\\n',\n",
       " 'M6Z,Not assigned,\\n',\n",
       " 'M7Z,Not assigned,\\n',\n",
       " 'M8Z,Etobicoke,Mimico NW / The Queensway West / South of Bloor / Kingsway Park South West / Royal York South West\\n',\n",
       " 'M9Z,Not assigned,\\n']"
      ]
     },
     "execution_count": 59,
     "metadata": {},
     "output_type": "execute_result"
    }
   ],
   "source": [
    "# Tip 3\n",
    "# Let's remove the \\ns which start each item of the list\n",
    "def remove_cruft(s):\n",
    "    return s[1:]\n",
    "\n",
    "rowz = [remove_cruft(s) for s in rowz]\n",
    "rowz"
   ]
  },
  {
   "cell_type": "code",
   "execution_count": 73,
   "metadata": {},
   "outputs": [
    {
     "data": {
      "text/html": [
       "<div>\n",
       "<style scoped>\n",
       "    .dataframe tbody tr th:only-of-type {\n",
       "        vertical-align: middle;\n",
       "    }\n",
       "\n",
       "    .dataframe tbody tr th {\n",
       "        vertical-align: top;\n",
       "    }\n",
       "\n",
       "    .dataframe thead th {\n",
       "        text-align: right;\n",
       "    }\n",
       "</style>\n",
       "<table border=\"1\" class=\"dataframe\">\n",
       "  <thead>\n",
       "    <tr style=\"text-align: right;\">\n",
       "      <th></th>\n",
       "      <th>Postal code</th>\n",
       "      <th>Borough</th>\n",
       "      <th>Neighborhood</th>\n",
       "    </tr>\n",
       "  </thead>\n",
       "  <tbody>\n",
       "    <tr>\n",
       "      <th>0</th>\n",
       "      <td>M1A</td>\n",
       "      <td>Not assigned</td>\n",
       "      <td>\\n</td>\n",
       "    </tr>\n",
       "    <tr>\n",
       "      <th>1</th>\n",
       "      <td>M2A</td>\n",
       "      <td>Not assigned</td>\n",
       "      <td>\\n</td>\n",
       "    </tr>\n",
       "    <tr>\n",
       "      <th>2</th>\n",
       "      <td>M3A</td>\n",
       "      <td>North York</td>\n",
       "      <td>Parkwoods\\n</td>\n",
       "    </tr>\n",
       "    <tr>\n",
       "      <th>3</th>\n",
       "      <td>M4A</td>\n",
       "      <td>North York</td>\n",
       "      <td>Victoria Village\\n</td>\n",
       "    </tr>\n",
       "    <tr>\n",
       "      <th>4</th>\n",
       "      <td>M5A</td>\n",
       "      <td>Downtown Toronto</td>\n",
       "      <td>Regent Park / Harbourfront\\n</td>\n",
       "    </tr>\n",
       "  </tbody>\n",
       "</table>\n",
       "</div>"
      ],
      "text/plain": [
       "  Postal code           Borough                  Neighborhood\n",
       "0         M1A      Not assigned                            \\n\n",
       "1         M2A      Not assigned                            \\n\n",
       "2         M3A        North York                   Parkwoods\\n\n",
       "3         M4A        North York            Victoria Village\\n\n",
       "4         M5A  Downtown Toronto  Regent Park / Harbourfront\\n"
      ]
     },
     "execution_count": 73,
     "metadata": {},
     "output_type": "execute_result"
    }
   ],
   "source": [
    "# Tip 4\n",
    "# Let's convert the list to a dataframe with the headers we got\n",
    "neighborhoods = pd.DataFrame([sub.split(\",\") for sub in rowz], columns=headerz)\n",
    "neighborhoods.head()"
   ]
  },
  {
   "cell_type": "markdown",
   "metadata": {},
   "source": [
    "<hr style=\"height:3px;background-color:crimson\">"
   ]
  },
  {
   "cell_type": "markdown",
   "metadata": {},
   "source": [
    "### Let's remove the rows of our dataframe  where the Borough is 'Not assigned'"
   ]
  },
  {
   "cell_type": "code",
   "execution_count": 74,
   "metadata": {},
   "outputs": [
    {
     "data": {
      "text/html": [
       "<div>\n",
       "<style scoped>\n",
       "    .dataframe tbody tr th:only-of-type {\n",
       "        vertical-align: middle;\n",
       "    }\n",
       "\n",
       "    .dataframe tbody tr th {\n",
       "        vertical-align: top;\n",
       "    }\n",
       "\n",
       "    .dataframe thead th {\n",
       "        text-align: right;\n",
       "    }\n",
       "</style>\n",
       "<table border=\"1\" class=\"dataframe\">\n",
       "  <thead>\n",
       "    <tr style=\"text-align: right;\">\n",
       "      <th></th>\n",
       "      <th>Postal code</th>\n",
       "      <th>Borough</th>\n",
       "      <th>Neighborhood</th>\n",
       "    </tr>\n",
       "  </thead>\n",
       "  <tbody>\n",
       "    <tr>\n",
       "      <th>2</th>\n",
       "      <td>M3A</td>\n",
       "      <td>North York</td>\n",
       "      <td>Parkwoods\\n</td>\n",
       "    </tr>\n",
       "    <tr>\n",
       "      <th>3</th>\n",
       "      <td>M4A</td>\n",
       "      <td>North York</td>\n",
       "      <td>Victoria Village\\n</td>\n",
       "    </tr>\n",
       "    <tr>\n",
       "      <th>4</th>\n",
       "      <td>M5A</td>\n",
       "      <td>Downtown Toronto</td>\n",
       "      <td>Regent Park / Harbourfront\\n</td>\n",
       "    </tr>\n",
       "    <tr>\n",
       "      <th>5</th>\n",
       "      <td>M6A</td>\n",
       "      <td>North York</td>\n",
       "      <td>Lawrence Manor / Lawrence Heights\\n</td>\n",
       "    </tr>\n",
       "    <tr>\n",
       "      <th>6</th>\n",
       "      <td>M7A</td>\n",
       "      <td>Downtown Toronto</td>\n",
       "      <td>Queen's Park / Ontario Provincial Government\\n</td>\n",
       "    </tr>\n",
       "  </tbody>\n",
       "</table>\n",
       "</div>"
      ],
      "text/plain": [
       "  Postal code           Borough  \\\n",
       "2         M3A        North York   \n",
       "3         M4A        North York   \n",
       "4         M5A  Downtown Toronto   \n",
       "5         M6A        North York   \n",
       "6         M7A  Downtown Toronto   \n",
       "\n",
       "                                     Neighborhood  \n",
       "2                                     Parkwoods\\n  \n",
       "3                              Victoria Village\\n  \n",
       "4                    Regent Park / Harbourfront\\n  \n",
       "5             Lawrence Manor / Lawrence Heights\\n  \n",
       "6  Queen's Park / Ontario Provincial Government\\n  "
      ]
     },
     "execution_count": 74,
     "metadata": {},
     "output_type": "execute_result"
    }
   ],
   "source": [
    "neighborhoods = neighborhoods.drop(neighborhoods[neighborhoods['Borough'] == 'Not assigned'].index)\n",
    "neighborhoods.head()"
   ]
  },
  {
   "cell_type": "code",
   "execution_count": 92,
   "metadata": {},
   "outputs": [
    {
     "data": {
      "text/html": [
       "<div>\n",
       "<style scoped>\n",
       "    .dataframe tbody tr th:only-of-type {\n",
       "        vertical-align: middle;\n",
       "    }\n",
       "\n",
       "    .dataframe tbody tr th {\n",
       "        vertical-align: top;\n",
       "    }\n",
       "\n",
       "    .dataframe thead th {\n",
       "        text-align: right;\n",
       "    }\n",
       "</style>\n",
       "<table border=\"1\" class=\"dataframe\">\n",
       "  <thead>\n",
       "    <tr style=\"text-align: right;\">\n",
       "      <th></th>\n",
       "      <th>Postal code</th>\n",
       "      <th>Borough</th>\n",
       "      <th>Neighborhood</th>\n",
       "    </tr>\n",
       "  </thead>\n",
       "  <tbody>\n",
       "    <tr>\n",
       "      <th>2</th>\n",
       "      <td>M3A</td>\n",
       "      <td>North York</td>\n",
       "      <td>Parkwoods</td>\n",
       "    </tr>\n",
       "    <tr>\n",
       "      <th>3</th>\n",
       "      <td>M4A</td>\n",
       "      <td>North York</td>\n",
       "      <td>Victoria Village</td>\n",
       "    </tr>\n",
       "    <tr>\n",
       "      <th>4</th>\n",
       "      <td>M5A</td>\n",
       "      <td>Downtown Toronto</td>\n",
       "      <td>Regent Park, Harbourfront</td>\n",
       "    </tr>\n",
       "    <tr>\n",
       "      <th>5</th>\n",
       "      <td>M6A</td>\n",
       "      <td>North York</td>\n",
       "      <td>Lawrence Manor, Lawrence Heights</td>\n",
       "    </tr>\n",
       "    <tr>\n",
       "      <th>6</th>\n",
       "      <td>M7A</td>\n",
       "      <td>Downtown Toronto</td>\n",
       "      <td>Queen's Park, Ontario Provincial Government</td>\n",
       "    </tr>\n",
       "  </tbody>\n",
       "</table>\n",
       "</div>"
      ],
      "text/plain": [
       "  Postal code           Borough                                 Neighborhood\n",
       "2         M3A        North York                                    Parkwoods\n",
       "3         M4A        North York                             Victoria Village\n",
       "4         M5A  Downtown Toronto                    Regent Park, Harbourfront\n",
       "5         M6A        North York             Lawrence Manor, Lawrence Heights\n",
       "6         M7A  Downtown Toronto  Queen's Park, Ontario Provincial Government"
      ]
     },
     "execution_count": 92,
     "metadata": {},
     "output_type": "execute_result"
    }
   ],
   "source": [
    "# Tip 5\n",
    "# Let's remove the appending \\n at the end of each string in the Neighborhood column\n",
    "neighborhoods['Neighborhood'] = neighborhoods['Neighborhood'].str.replace('\\n','')\n",
    "\n",
    "# Let's replace the slashes (/) by commas (,) in the Neighborhood column\n",
    "neighborhoods['Neighborhood'] = neighborhoods['Neighborhood'].str.replace(' /',',')\n",
    "neighborhoods.head()"
   ]
  },
  {
   "cell_type": "code",
   "execution_count": 97,
   "metadata": {},
   "outputs": [
    {
     "data": {
      "text/html": [
       "<div>\n",
       "<style scoped>\n",
       "    .dataframe tbody tr th:only-of-type {\n",
       "        vertical-align: middle;\n",
       "    }\n",
       "\n",
       "    .dataframe tbody tr th {\n",
       "        vertical-align: top;\n",
       "    }\n",
       "\n",
       "    .dataframe thead th {\n",
       "        text-align: right;\n",
       "    }\n",
       "</style>\n",
       "<table border=\"1\" class=\"dataframe\">\n",
       "  <thead>\n",
       "    <tr style=\"text-align: right;\">\n",
       "      <th></th>\n",
       "      <th>PostalCode</th>\n",
       "      <th>Borough</th>\n",
       "      <th>Neighborhood</th>\n",
       "    </tr>\n",
       "  </thead>\n",
       "  <tbody>\n",
       "    <tr>\n",
       "      <th>0</th>\n",
       "      <td>M3A</td>\n",
       "      <td>North York</td>\n",
       "      <td>Parkwoods</td>\n",
       "    </tr>\n",
       "    <tr>\n",
       "      <th>1</th>\n",
       "      <td>M4A</td>\n",
       "      <td>North York</td>\n",
       "      <td>Victoria Village</td>\n",
       "    </tr>\n",
       "    <tr>\n",
       "      <th>2</th>\n",
       "      <td>M5A</td>\n",
       "      <td>Downtown Toronto</td>\n",
       "      <td>Regent Park, Harbourfront</td>\n",
       "    </tr>\n",
       "    <tr>\n",
       "      <th>3</th>\n",
       "      <td>M6A</td>\n",
       "      <td>North York</td>\n",
       "      <td>Lawrence Manor, Lawrence Heights</td>\n",
       "    </tr>\n",
       "    <tr>\n",
       "      <th>4</th>\n",
       "      <td>M7A</td>\n",
       "      <td>Downtown Toronto</td>\n",
       "      <td>Queen's Park, Ontario Provincial Government</td>\n",
       "    </tr>\n",
       "  </tbody>\n",
       "</table>\n",
       "</div>"
      ],
      "text/plain": [
       "  PostalCode           Borough                                 Neighborhood\n",
       "0        M3A        North York                                    Parkwoods\n",
       "1        M4A        North York                             Victoria Village\n",
       "2        M5A  Downtown Toronto                    Regent Park, Harbourfront\n",
       "3        M6A        North York             Lawrence Manor, Lawrence Heights\n",
       "4        M7A  Downtown Toronto  Queen's Park, Ontario Provincial Government"
      ]
     },
     "execution_count": 97,
     "metadata": {},
     "output_type": "execute_result"
    }
   ],
   "source": [
    "# Finally, let's reindex our dataframe\n",
    "# https://pandas.pydata.org/pandas-docs/stable/reference/api/pandas.DataFrame.reset_index.html\n",
    "\n",
    "neighborhoods = neighborhoods.reset_index(drop=True)\n",
    "neighborhoods = neighborhoods.rename(columns={'Postal code': 'PostalCode'}) # Let's match the assignment example\n",
    "neighborhoods.head()"
   ]
  },
  {
   "cell_type": "code",
   "execution_count": 109,
   "metadata": {},
   "outputs": [
    {
     "name": "stdout",
     "output_type": "stream",
     "text": [
      "No duplicates!\n"
     ]
    }
   ],
   "source": [
    "# Tip 6\n",
    "# Let's check if we have duplicated Postal codes as mentioned in the assignment statement\n",
    "\n",
    "duplicateRowsDF = neighborhoods[neighborhoods.duplicated(['PostalCode'])]\n",
    "if duplicateRowsDF.empty == True:\n",
    "    print('No duplicates!')\n",
    "else:\n",
    "    print(\"Duplicate Rows except first occurrence based on all columns are: \")"
   ]
  },
  {
   "cell_type": "code",
   "execution_count": 106,
   "metadata": {},
   "outputs": [
    {
     "data": {
      "text/plain": [
       "(103, 3)"
      ]
     },
     "execution_count": 106,
     "metadata": {},
     "output_type": "execute_result"
    }
   ],
   "source": [
    "neighborhoods.shape"
   ]
  },
  {
   "cell_type": "markdown",
   "metadata": {},
   "source": [
    "# <span style=\"color:crimson\">Our dataframe consists in 103 rows and 3 columns</span>"
   ]
  },
  {
   "cell_type": "markdown",
   "metadata": {},
   "source": [
    "<hr style=\"height:3px;background-color:black\">"
   ]
  },
  {
   "cell_type": "markdown",
   "metadata": {},
   "source": [
    "# Acknowledgments: list of tips\n",
    "\n",
    "1. Extract a string from within an HTML tag: <br />\n",
    "https://stackoverflow.com/questions/28212766/extract-string-from-tag-with-beautifulsoup\n",
    "\n",
    "2. Delete character from a list of strings: <br />\n",
    "https://stackoverflow.com/questions/8282553/removing-character-in-list-of-strings\n",
    "\n",
    "3. Delete first and last characters of a list's item: <br />\n",
    "https://stackoverflow.com/questions/11832984/removing-first-four-and-last-four-characters-of-strings-in-list-or-removing-spe\n",
    "\n",
    "4. Convert a list to a dataframe: <br />\n",
    "https://stackoverflow.com/questions/32224363/python-convert-comma-separated-list-to-pandas-dataframe\n",
    "\n",
    "5. Replace characters in a column: <br />\n",
    "https://stackoverflow.com/questions/28986489/how-to-replace-a-characters-in-a-column-of-a-pandas-dataframe\n",
    "\n",
    "6. Identify duplicates: <br />\n",
    "https://thispointer.com/pandas-find-duplicate-rows-in-a-dataframe-based-on-all-or-selected-columns-using-dataframe-duplicated-in-python/"
   ]
  },
  {
   "cell_type": "code",
   "execution_count": 118,
   "metadata": {},
   "outputs": [],
   "source": [
    "# Export the notebook in the current folder, without the index\n",
    "# neighborhoods.to_csv('../DP0701EN/Part1_neighborhoods_dataframe.csv', index=None)"
   ]
  },
  {
   "cell_type": "code",
   "execution_count": 117,
   "metadata": {},
   "outputs": [
    {
     "data": {
      "text/html": [
       "<a download=\"data.csv\" href=\"data:text/csv;base64,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\" target=\"_blank\">Download CSV file</a>"
      ],
      "text/plain": [
       "<IPython.core.display.HTML object>"
      ]
     },
     "execution_count": 117,
     "metadata": {},
     "output_type": "execute_result"
    }
   ],
   "source": [
    "# https://medium.com/ibm-data-science-experience/how-to-upload-download-files-to-from-notebook-in-my-local-machine-6a4e65a15767\n",
    "from IPython.display import HTML\n",
    "import base64\n",
    "\n",
    "def create_download_link(neighborhoods, title = \"Download CSV file\", filename = \"data.csv\"):  \n",
    "    csv = neighborhoods.to_csv()\n",
    "    b64 = base64.b64encode(csv.encode())\n",
    "    payload = b64.decode()\n",
    "    html = '<a download=\"{filename}\" href=\"data:text/csv;base64,{payload}\" target=\"_blank\">{title}</a>'\n",
    "    html = html.format(payload=payload,title=title,filename=filename)\n",
    "    return HTML(html)\n",
    "\n",
    "create_download_link(neighborhoods)"
   ]
  },
  {
   "cell_type": "code",
   "execution_count": null,
   "metadata": {},
   "outputs": [],
   "source": []
  }
 ],
 "metadata": {
  "kernelspec": {
   "display_name": "Python",
   "language": "python",
   "name": "conda-env-python-py"
  },
  "language_info": {
   "codemirror_mode": {
    "name": "ipython",
    "version": 3
   },
   "file_extension": ".py",
   "mimetype": "text/x-python",
   "name": "python",
   "nbconvert_exporter": "python",
   "pygments_lexer": "ipython3",
   "version": "3.6.10"
  }
 },
 "nbformat": 4,
 "nbformat_minor": 4
}
